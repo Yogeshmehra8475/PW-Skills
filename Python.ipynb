{
  "nbformat": 4,
  "nbformat_minor": 0,
  "metadata": {
    "colab": {
      "provenance": []
    },
    "kernelspec": {
      "name": "python3",
      "display_name": "Python 3"
    },
    "language_info": {
      "name": "python"
    }
  },
  "cells": [
    {
      "cell_type": "code",
      "execution_count": null,
      "metadata": {
        "id": "WFVqIJT87p-c"
      },
      "outputs": [],
      "source": []
    },
    {
      "cell_type": "markdown",
      "source": [
        "# Python Basics Questions"
      ],
      "metadata": {
        "id": "r_EvF_1T87Rz"
      }
    },
    {
      "cell_type": "markdown",
      "source": [
        "1. What is Python, and why is it popular?\n",
        "   - Python is a high level languagw used in mostly the starting of the programer's journey known for it's versatility, readability and simplicity and tools used for web development, machine learning, automation, etc.\n",
        "       \n",
        "      **Python is popular because.**\n",
        "       1. **Beginner-Friendly**: Python is a very easy to learn and understand language so this makes it a good choice for the beginner's to start with.\n",
        "       2. **Wide use in industries**: Python is used across every tech industry.\n",
        "       3. **A lot of libraries**: Python is a languge having more than 137000 libraries which anyone can use from anywhere in the world.\n",
        "       4. **Versatility**: Python is used across many platforms like Web development, machine learning, Automation, software development, image processing, etc.\n",
        "       5. **Huge active community**: Python has a huge active community which maintains the smooth functioning of the libraries and work on updation of the libraries.\n",
        "\n",
        "2. What is an interpreter in Python?\n",
        "  - In python a interpreter is a program that executes the python program directly. In interpreter the progeram is executed line ny line at the runtime. Hence it shows error if the error is in the any particular line.\n",
        "\n",
        "3. What are pre-defined keywords in Python?\n",
        "  - Pre-defined keywords in Python are the reserved words with special meaning to the python. They are a part of the python syntax and cannot be used as identifiers like (variable names, function name, class name, object name, etc).\n",
        "\n",
        "4. Can keywords be used as variable names?\n",
        "   - No, keywords cannot be used as variable names in python.\n",
        "\n",
        "5. What is mutability in Python?\n",
        "  - Mutability refers to the ability to change the state of the object after it has been created. It can be of two types\n",
        "    1. Mutable Objects: Objects whose content can be modified.\n",
        "      Example of mutable objects are: Lists, Dictionaries, sets, etc.\n",
        "    2. Immutable Objects: Objects whose content can't be modified.\n",
        "      Example of immutable objects are : Integers, floats, strings, tuples, etc.\n",
        "\n",
        "6. Why are lists mutable, but tuples are immutable?\n",
        " - Lists are mutable because they are designed to store data that can be changed, so their elements can be modified, added, or removed after the creation of lists.\n",
        "   \n",
        "      Whereas tuples are immutable because designed to represent fixed data, so after creating their elements cannot be changed or altered. The immutabolity makes tuple faster and memory efficient.\n",
        "    \n",
        "7. What is the difference between “==” and “is” operators in Python?\n",
        " - Both \"==\" and \"is\" operator are used for comparison, but they have different purposes.\n",
        "    1. == (Equility operator): This operator compares the vlaues of two objects. It tells wheather the data of the two objects is same. If the value is same the operator returns True, otherwise it will return False.\n",
        "    <!-- Code -->\n",
        "    a = [1, 2, 3]\n",
        "    b = [1, 2, 3]\n",
        "    print(a == b)\n",
        "\n",
        "    This will print True\n",
        "    \n",
        "    2. is (Identity operator): This operator compares the memory addresses of two objects. It returns True only if both variables point to the same object in memory.\n",
        "    <!-- Code -->\n",
        "    a = [1, 2, 3]\n",
        "    b = [1, 2, 3]\n",
        "    print(a is b)\n",
        "    \n",
        "    This will print False because different objects in the memory even if the values are same.\n",
        "    \n",
        "    c = a\n",
        "\n",
        "    print (a is c)\n",
        "\n",
        "    This will print True because both refers to the same object in memory.\n",
        "\n",
        "8. What are logical operators in Python?\n",
        " - In python logical operators are used to combine the conditional statements and return a Boolean value. There are 3 logical operators.\n",
        "\n",
        "    1. **and operator (Logical AND)**\n",
        "     - It returns True if both the operands are true.\n",
        "     - Returns False if at least one operand is False.\n",
        "    2. **or operator (Logical OR)**\n",
        "    - It returns True if at least one operand is True.\n",
        "    - Returns False only if both operands are False.\n",
        "    3. **not operator (Logical NOT)**\n",
        "    - It returns the inverse value of the operand.\n",
        "    - If the operand is True, not will return False.\n",
        "    - If the operand is False, not will return True.\n",
        "\n",
        "9. What is type casting in Python?\n",
        "- Type casting in python is process of type conversion. It consists the process of converting a variable from one data type to another data type.\n",
        "\n",
        "  There are two main types of type casting in Python:\n",
        "  1. Implicit Type Casting: In this type casting, the python automatically converts one data type to another. it converts a smaller data type into a bigger data type to avoid data loss.\n",
        "  2. Explicit Type Casting: his involves manually converting a variable's data type using built-in functions provided by Python. Common functions include: int(), float(), str(), list(), tuple(), set().\n",
        "\n",
        "10. What is the difference between implicit and explicit type casting\n",
        "-  The difference between implicit and explicit type casting is:\n",
        "    1. Implicit Type Casting: In this type casting, the python automatically converts one data type to another. it converts a smaller data type into a bigger data type to avoid data loss.\n",
        "    \n",
        "            Example : x = 5      # int\n",
        "              y = 2.5    # float\n",
        "              z = x + y  # int + float → float\n",
        "              print(z)   # 7.5\n",
        "\n",
        "    2. Explicit Type Casting: his involves manually converting a variable's data type using built-in functions provided by Python. Common functions include: int(), float(), str(), list(), tuple(), set().\n",
        "\n",
        "            Example: a = \"100\"\n",
        "             b = int(a)      # string → int\n",
        "             c = float(a)    # string → float\n",
        "             print(b + 20)   # 120\n",
        "             print(c + 0.5)  # 100.5\n",
        "\n",
        "11. What is the purpose of conditional statements in Python?\n",
        "- The purpose of conditional statements in Python is to control the flow of a program's execution based on specific conditions. They enable the program to make decisions and execute different blocks of code depending on whether a given condition evaluates to True or False.\n",
        "\n",
        "12. How does the elif statement work?\n",
        "- The elif (else if) statement in Python is used when you need to check multiple conditions after the initial if. It allows the program to test conditions one by one and execute the block of the first condition that is true.\n",
        "\n",
        "**How it works:**\n",
        "- The program checks the if condition first.\n",
        "- If if is false, it moves to the elif condition.\n",
        "- If an elif condition is true, its block runs, and the rest are skipped.\n",
        "- If none of the conditions are true, the else block (if present) runs.\n",
        "\n",
        "13. What is the difference between for and while loops?\n",
        "- Difference between for loop and while loop are:\n",
        "    1. **For Loop**\n",
        "    - Used when you know how many times you want to repeat.\n",
        "    - Iterates over a sequence (like list, string, range).\n",
        "    - Best for definite iteration.\n",
        "\n",
        "     Example:  \n",
        "            for i in range(5):\n",
        "              print(i)   # Prints 0 to 4\n",
        "\n",
        "    2. \"\"While Loop**\n",
        "    - Used when you want to repeat until a condition is true.\n",
        "    - The number of iterations is not fixed in advance.\n",
        "    - Best for indefinite iteration.\n",
        "\n",
        "      Example:   \n",
        "              i = 0\n",
        "              while i < 5:\n",
        "                print(i)\n",
        "                i += 1\n",
        "14. Describe a scenario where a while loop is more suitable than a for loop.\n",
        "- Suppose we are writing a program that keeps asking a user to enter a password, until they enter the correct one. Here, we cannot predict how many attempts the user will take, so a while loop is better."
      ],
      "metadata": {
        "id": "HAKMthIU8noL"
      }
    },
    {
      "cell_type": "markdown",
      "source": [
        "# Practical Questions"
      ],
      "metadata": {
        "id": "z0XMVR0XIqDK"
      }
    },
    {
      "cell_type": "code",
      "source": [
        "# Write a Python program to print \"Hello, World!\n",
        "\n",
        "print (\"Hello, World!\")"
      ],
      "metadata": {
        "colab": {
          "base_uri": "https://localhost:8080/"
        },
        "id": "0YJ3HJAuIviT",
        "outputId": "89a28e4f-44b3-4186-b8e2-8f8f68a61703"
      },
      "execution_count": null,
      "outputs": [
        {
          "output_type": "stream",
          "name": "stdout",
          "text": [
            "Hello, World!\n"
          ]
        }
      ]
    },
    {
      "cell_type": "code",
      "source": [
        "# Write a Python program that displays your name and age.\n",
        "print(\"Name: Yogesh Singh Mehra\")\n",
        "print(\"Age: 21\")"
      ],
      "metadata": {
        "colab": {
          "base_uri": "https://localhost:8080/"
        },
        "id": "x3zpJnc-Iu0w",
        "outputId": "89c7e329-157c-414f-cba0-6825f4f00c9e"
      },
      "execution_count": null,
      "outputs": [
        {
          "output_type": "stream",
          "name": "stdout",
          "text": [
            "Name: Yogesh Singh Mehra\n",
            "Age: 21\n"
          ]
        }
      ]
    },
    {
      "cell_type": "code",
      "source": [
        "# Write code to print all the pre-defined keywords in Python using the keyword library.\n",
        "\n",
        "import keyword\n",
        "\n",
        "print(\"Python Keywords are:\")\n",
        "for kw in keyword.kwlist:\n",
        "    print(kw)"
      ],
      "metadata": {
        "colab": {
          "base_uri": "https://localhost:8080/"
        },
        "id": "0pKGMB4NJRGu",
        "outputId": "967f18f9-e4e2-41ce-e0ee-5608fcc59336"
      },
      "execution_count": null,
      "outputs": [
        {
          "output_type": "stream",
          "name": "stdout",
          "text": [
            "Python Keywords are:\n",
            "False\n",
            "None\n",
            "True\n",
            "and\n",
            "as\n",
            "assert\n",
            "async\n",
            "await\n",
            "break\n",
            "class\n",
            "continue\n",
            "def\n",
            "del\n",
            "elif\n",
            "else\n",
            "except\n",
            "finally\n",
            "for\n",
            "from\n",
            "global\n",
            "if\n",
            "import\n",
            "in\n",
            "is\n",
            "lambda\n",
            "nonlocal\n",
            "not\n",
            "or\n",
            "pass\n",
            "raise\n",
            "return\n",
            "try\n",
            "while\n",
            "with\n",
            "yield\n"
          ]
        }
      ]
    },
    {
      "cell_type": "code",
      "source": [
        "# Write a program that checks if a given word is a Python keyword.\n",
        "\n",
        "import keyword\n",
        "\n",
        "word = input(\"Enter a word: \")\n",
        "if keyword.iskeyword(word):\n",
        "    print(f\"'{word}' is a Python keyword.\")\n",
        "else:\n",
        "    print(f\"'{word}' is NOT a Python keyword.\")"
      ],
      "metadata": {
        "colab": {
          "base_uri": "https://localhost:8080/"
        },
        "id": "z8n8LtTpJql9",
        "outputId": "c13b6685-4d16-4200-82c5-6be8e445e693"
      },
      "execution_count": null,
      "outputs": [
        {
          "output_type": "stream",
          "name": "stdout",
          "text": [
            "Enter a word: TRY\n",
            "'TRY' is NOT a Python keyword.\n"
          ]
        }
      ]
    },
    {
      "cell_type": "code",
      "source": [
        "# Create a list and tuple in Python, and demonstrate how attempting to change an element works differently for each.\n",
        "\n",
        "my_list = [10, 20, 30]\n",
        "print(\"Original List:\", my_list)\n",
        "\n",
        "my_list[1] = 200\n",
        "print(\"Modified List:\", my_list)\n",
        "\n",
        "my_tuple = (10, 20, 30)\n",
        "print(\"\\nOriginal Tuple:\", my_tuple)\n",
        "\n",
        "try:\n",
        "    my_tuple[1] = 200\n",
        "except TypeError as e:\n",
        "    print(\"Error:\", e)\n"
      ],
      "metadata": {
        "colab": {
          "base_uri": "https://localhost:8080/"
        },
        "id": "qMIKFOccKQUP",
        "outputId": "a46f96ca-8731-49d9-e3db-9318ed9d7fac"
      },
      "execution_count": null,
      "outputs": [
        {
          "output_type": "stream",
          "name": "stdout",
          "text": [
            "Original List: [10, 20, 30]\n",
            "\n",
            "Original Tuple: (10, 20, 30)\n",
            "Modified List: [10, 200, 30]\n",
            "Error: 'tuple' object does not support item assignment\n"
          ]
        }
      ]
    },
    {
      "cell_type": "code",
      "source": [
        "#  Write a function to demonstrate the behavior of mutable and immutable arguments.\n",
        "\n",
        "# immutable function\n",
        "def modify_number(x):\n",
        "    print(\"Inside function before change:\", x)\n",
        "    x = x + 10\n",
        "    print(\"Inside function after change:\", x)\n",
        "\n",
        "#mutable function\n",
        "def modify_list(lst):\n",
        "    print(\"Inside function before change:\", lst)\n",
        "    lst.append(100)\n",
        "    print(\"Inside function after change:\", lst)\n",
        "\n",
        "num = 50\n",
        "print(\"Original number before function call:\", num)\n",
        "modify_number(num)\n",
        "print(\"Original number after function call:\", num)\n",
        "\n",
        "my_list = [1, 2, 3]\n",
        "print(\"Original list before function call:\", my_list)\n",
        "modify_list(my_list)\n",
        "print(\"Original list after function call:\", my_list)\n"
      ],
      "metadata": {
        "id": "BgUT_zp0LKCD",
        "colab": {
          "base_uri": "https://localhost:8080/"
        },
        "outputId": "2183a377-d8b0-459e-dab9-462cf088391e"
      },
      "execution_count": null,
      "outputs": [
        {
          "output_type": "stream",
          "name": "stdout",
          "text": [
            "Original number before function call: 50\n",
            "Inside function before change: 50\n",
            "Inside function after change: 60\n",
            "Original number after function call: 50\n",
            "Original list before function call: [1, 2, 3]\n",
            "Inside function before change: [1, 2, 3]\n",
            "Inside function after change: [1, 2, 3, 100]\n",
            "Original list after function call: [1, 2, 3, 100]\n"
          ]
        }
      ]
    },
    {
      "cell_type": "code",
      "source": [
        "#  Write a program that performs basic arithmetic operations on two user-input numbers.\n",
        "\n",
        "num1 = int(input(\"Enter the first number : \"))\n",
        "num2 = int(input(\"Enter the second number : \"))\n",
        "\n",
        "print(\"Addition of the two numbers is : \" +str(num1 + num2))\n",
        "print(\"Subtraction of the two numbers is : \" +str(num1 - num2))\n",
        "print(\"Multiplication of the two numbers is : \" +str(num1 * num2))\n",
        "print(\"Division of the two numbers is : \" +str(num1 / num2))\n",
        "print(\"Reminder of the two number is : \"+str(num1 % num2))"
      ],
      "metadata": {
        "colab": {
          "base_uri": "https://localhost:8080/"
        },
        "id": "nwf1Uu96rMG8",
        "outputId": "67d71f1d-8254-4ab6-c018-b6bd264ad819"
      },
      "execution_count": null,
      "outputs": [
        {
          "output_type": "stream",
          "name": "stdout",
          "text": [
            "Enter the first number : 10\n",
            "Enter the second number : 2\n",
            "Addition of the two numbers is : 12\n",
            "Subtraction of the two numbers is : 8\n",
            "Multiplication of the two numbers is : 20\n",
            "Division of the two numbers is : 5.0\n",
            "Reminder of the two number is : 0\n"
          ]
        }
      ]
    },
    {
      "cell_type": "code",
      "source": [
        "#  Write a program to demonstrate the use of logical operators.\n",
        "\n",
        "x = int(input(\"Enter the first number : \"))\n",
        "y = int(input(\"Enter the second number : \"))\n",
        "\n",
        "# Using and operator\n",
        "print(\"x > 5 and y > 15:\", x > 5 and y > 15)\n",
        "print(\"x > 15 and y > 15:\", x > 15 and y > 15)\n",
        "# Using or operator\n",
        "print(\"\\n x > 5 or y < 15:\", x > 5 or y < 15)\n",
        "print(\"x > 15 or y < 15:\", x > 15 or y < 15)\n",
        "# Using not operator\n",
        "print(\"\\n not(x > 5):\", not(x > 5))\n",
        "print(\"not(y < 15):\", not(y < 15))\n"
      ],
      "metadata": {
        "colab": {
          "base_uri": "https://localhost:8080/"
        },
        "id": "uQw_13FOsMvJ",
        "outputId": "cd32f080-7d2a-4c31-adb0-059007b4747f"
      },
      "execution_count": null,
      "outputs": [
        {
          "output_type": "stream",
          "name": "stdout",
          "text": [
            "Enter the first number : 4\n",
            "Enter the second number : 2\n",
            "x > 5 and y > 15: False\n",
            "x > 15 and y > 15: False\n",
            "\n",
            " x > 5 or y < 15: True\n",
            "x > 15 or y < 15: True\n",
            "\n",
            " not(x > 5): True\n",
            "not(y < 15): False\n"
          ]
        }
      ]
    },
    {
      "cell_type": "code",
      "source": [
        "#  Write a Python program to convert user input from string to integer, float, and boolean types.\n",
        "\n",
        "# Taking input as string\n",
        "user_input = input(\"Enter a value: \")\n",
        "print(\"String you entered is : \" +user_input)\n",
        "\n",
        "# Converting string to integer\n",
        "try:\n",
        "    int_value = int(user_input)\n",
        "    print(\"As Integer:\", int_value)\n",
        "except ValueError:\n",
        "    print(\"Cannot convert to Integer.\")\n",
        "\n",
        "# Converting string to float\n",
        "try:\n",
        "    float_value = float(user_input)\n",
        "    print(\"As Float:\", float_value)\n",
        "except ValueError:\n",
        "    print(\"Cannot convert to Float.\")\n",
        "\n",
        "# Converting string to boolean\n",
        "bool_value = bool(user_input)                   # If there will ebe empty string \"\" it will retrun False, and if non-empty string it will return True.\n",
        "print(\"As Boolean:\", bool_value)\n"
      ],
      "metadata": {
        "colab": {
          "base_uri": "https://localhost:8080/"
        },
        "id": "Dx2wE6cqs7GK",
        "outputId": "0d149671-7cef-47e6-99fc-427582e9e913"
      },
      "execution_count": null,
      "outputs": [
        {
          "output_type": "stream",
          "name": "stdout",
          "text": [
            "Enter a value: \n",
            "String you entered is : \n",
            "Cannot convert to Integer.\n",
            "Cannot convert to Float.\n",
            "As Boolean: False\n"
          ]
        }
      ]
    },
    {
      "cell_type": "code",
      "source": [
        " # Write code to demonstrate type casting with list elements.\n",
        "\n",
        "str_list = [\"10\", \"20\", \"30\", \"40\"]\n",
        "\n",
        "print(\"Original list (strings):\", str_list)\n",
        "\n",
        "# Converting into integers.\n",
        "int_list = [int(x) for x in str_list]\n",
        "print(\"List after converting to integers:\", int_list)\n",
        "\n",
        "# Converting into flaot\n",
        "float_list = [float(x) for x in str_list]\n",
        "print(\"List after converting to floats:\", float_list)\n",
        "\n",
        "# Converting to boolean (non-empty strings will be True)\n",
        "bool_list = [bool(x) for x in str_list]\n",
        "print(\"List after converting to booleans:\", bool_list)\n"
      ],
      "metadata": {
        "id": "D-tV_iWvuSwS",
        "colab": {
          "base_uri": "https://localhost:8080/"
        },
        "outputId": "e4c163c3-69d7-4e26-8457-fa92f7b860bc"
      },
      "execution_count": 2,
      "outputs": [
        {
          "output_type": "stream",
          "name": "stdout",
          "text": [
            "Original list (strings): ['10', '20', '30', '40']\n",
            "List after converting to integers: [10, 20, 30, 40]\n",
            "List after converting to floats: [10.0, 20.0, 30.0, 40.0]\n",
            "List after converting to booleans: [True, True, True, True]\n"
          ]
        }
      ]
    },
    {
      "cell_type": "code",
      "source": [
        "# Write a program that checks if a number is positive, negative, or zero.\n",
        "\n",
        "num = float(input(\"Enter a number: \"))\n",
        "\n",
        "if num > 0:\n",
        "    print(\"The number is Positive.\")\n",
        "elif num < 0:\n",
        "    print(\"The number is Negative.\")\n",
        "else:\n",
        "    print(\"The number is Zero.\")\n"
      ],
      "metadata": {
        "colab": {
          "base_uri": "https://localhost:8080/"
        },
        "id": "xK1PmMmSFxFL",
        "outputId": "e612d7cb-1798-45f0-dd65-40807768ee1d"
      },
      "execution_count": 6,
      "outputs": [
        {
          "output_type": "stream",
          "name": "stdout",
          "text": [
            "Enter a number: 0\n",
            "The number is Zero.\n"
          ]
        }
      ]
    },
    {
      "cell_type": "code",
      "source": [
        "# Write a for loop to print numbers from 1 to 10.\n",
        "\n",
        "for i in range(1, 11) :\n",
        "  print(i)\n",
        "\n"
      ],
      "metadata": {
        "colab": {
          "base_uri": "https://localhost:8080/"
        },
        "id": "3HM2s5XgJjYL",
        "outputId": "b2b5af7c-f931-462b-ca76-efcf7398b324"
      },
      "execution_count": 7,
      "outputs": [
        {
          "output_type": "stream",
          "name": "stdout",
          "text": [
            "1\n",
            "2\n",
            "3\n",
            "4\n",
            "5\n",
            "6\n",
            "7\n",
            "8\n",
            "9\n",
            "10\n"
          ]
        }
      ]
    },
    {
      "cell_type": "code",
      "source": [
        "# Write a Python program to find the sum of all even numbers between 1 and 50.\n",
        "\n",
        "total = 0\n",
        "\n",
        "for i in range(1, 51):\n",
        "    if i % 2 == 0:   # check if even\n",
        "        total += i\n",
        "\n",
        "print(\"Sum of even numbers from 1 to 50 is:\", total)\n"
      ],
      "metadata": {
        "colab": {
          "base_uri": "https://localhost:8080/"
        },
        "id": "6hykB80MJuF3",
        "outputId": "9d6e7baa-dfd8-4299-dcd2-68761bcee288"
      },
      "execution_count": 15,
      "outputs": [
        {
          "output_type": "stream",
          "name": "stdout",
          "text": [
            "Sum of even numbers from 1 to 50 is: 650\n"
          ]
        }
      ]
    },
    {
      "cell_type": "code",
      "source": [
        "# Write a program to reverse a string using a while loop.\n",
        "text = input(\"Enter a string: \")\n",
        "\n",
        "reversed_text = \"\"\n",
        "i = len(text) - 1\n",
        "\n",
        "while i >= 0:\n",
        "    reversed_text += text[i]\n",
        "    i -= 1\n",
        "\n",
        "print(\"Reversed string:\", reversed_text)"
      ],
      "metadata": {
        "colab": {
          "base_uri": "https://localhost:8080/"
        },
        "id": "pcW6HiILKViw",
        "outputId": "4ba86062-796c-43bf-8a48-9f24ed05be09"
      },
      "execution_count": 17,
      "outputs": [
        {
          "output_type": "stream",
          "name": "stdout",
          "text": [
            "Enter a string: hiee\n",
            "Reversed string: eeih\n"
          ]
        }
      ]
    },
    {
      "cell_type": "code",
      "source": [
        "# Write a Python program to calculate the factorial of a number provided by the user using a while loop.\n",
        "\n",
        "num = int(input(\"Enter a number: \"))\n",
        "\n",
        "factorial = 1\n",
        "i = 1\n",
        "\n",
        "while i <= num:\n",
        "    factorial *= i\n",
        "    i += 1\n",
        "\n",
        "print(f\"The factorial of {num} is: {factorial}\")"
      ],
      "metadata": {
        "colab": {
          "base_uri": "https://localhost:8080/"
        },
        "id": "iwZSN1hSM95c",
        "outputId": "063c6796-0873-4001-c51e-2e70ea4851a6"
      },
      "execution_count": 18,
      "outputs": [
        {
          "output_type": "stream",
          "name": "stdout",
          "text": [
            "Enter a number: 5\n",
            "The factorial of 5 is: 120\n"
          ]
        }
      ]
    },
    {
      "cell_type": "code",
      "source": [],
      "metadata": {
        "id": "Uemx4BFVNkac"
      },
      "execution_count": null,
      "outputs": []
    }
  ]
}