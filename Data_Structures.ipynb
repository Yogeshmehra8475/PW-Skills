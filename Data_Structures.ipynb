{
  "nbformat": 4,
  "nbformat_minor": 0,
  "metadata": {
    "colab": {
      "provenance": []
    },
    "kernelspec": {
      "name": "python3",
      "display_name": "Python 3"
    },
    "language_info": {
      "name": "python"
    }
  },
  "cells": [
    {
      "cell_type": "markdown",
      "source": [
        "# Data Types and Structures Questions"
      ],
      "metadata": {
        "id": "8JpTAMxT0CyL"
      }
    },
    {
      "cell_type": "markdown",
      "source": [
        "1. What are data structures, and why are they important?\n",
        "- Data structures refers to the fudamental to progaming. In python, they are the way of organising and storing data so that it can be accessed and manipulated effeciently.\n",
        "\n",
        "  Data structures are important because they directly impact the efficiency and performance of the python code\n",
        "    * Efficient Data Access: Choosing the right data structure helps retrieve and update data quickly.\n",
        "    * Optimized Resource Usage: Saves time and memory, which is crucial for large scale applications.\n",
        "    * Better Problem Solving: Problems can only be solved effectively using the right data structure.\n",
        "    * Reusability and Scalability: Standard data structures like stacks, queues, and hash tables are widely reusable across applications.\n",
        "    * Foundation for Algorithms: Almost all algorithms (sorting, searching, dynamic programming, AI) are built on top of data structures.\n",
        "\n",
        "2.  Explain the difference between mutable and immutable data types with examples.\n",
        "- The difference between mutable and immutable data types is,,,\n",
        "      \n",
        "    * **Mutable Data Types:** Property of changing the value of the data types after they are created. if we update them, the object in memory remains the same, but its contents are modified.\n",
        "      Example: List, dictionary, set, etc.\n",
        "    * **Immutable Data Types:** Data types whose values cannot be changed after their creation. Any modification creates a new object in memory.\n",
        "      Example: int, float, string, tuple, etc.\n",
        "\n",
        "3. What are the main differences between lists and tuples in Python?\n",
        "- The difference between tuples list and tuple in pyhon are:\n",
        "  * **Lists**\n",
        "  1. Mutable: Elements can be changed, added, or removed after creation.\n",
        "  2. Syntax: Created using square brackets [].\n",
        "  3. Performance: Slightly slower because they are dynamic and allow modifications.\n",
        "  4. Use case: Suitable when data may change frequently.\n",
        "  * **Typles**\n",
        "  1. Immutable: Elements cannot be changed once created.\n",
        "  2. Syntax: Created using parentheses ().\n",
        "  3. Performance: Faster and requires less memory since they are fixed.\n",
        "  4. Use case: Useful for fixed data (like coordinates, configuration values).\n",
        "\n",
        "4. Describe how dictionaries store data.\n",
        "- A dictionary in Python is a collection of key value pairs. Each key is unique and maps to a value.\n",
        "\n",
        "  **Process of storing the data:**\n",
        "  * Dictionaries uses a hash table internally.\n",
        "  * When you create a dictionary, Python:\n",
        "  1. Takes the key and runs it through a hash function.\n",
        "  2. The hash function converts the key into a unique numeric value called a hash value.\n",
        "  3. This hash value determines where the corresponding value is stored in memory.\n",
        "  * When you retrieve a value using its key, Python recomputes the hash and finds the value quickly without scanning the whole dictionary.\n",
        "\n",
        "5. Why might you use a set instead of a list in Python?\n",
        "- BEcause\n",
        "    * Uniqueness of Elements -\n",
        "        \n",
        "        Set: Automatically removes duplicate values.\n",
        "        \n",
        "        List: Can store duplicates, so you must handle uniqueness manually.\n",
        "  \n",
        "    * Faster Membership Testing\n",
        "\n",
        "        Set: Uses a hash table, so checking if an element exists is very fast (O(1) on average).\n",
        "\n",
        "        List: Requires scanning elements one by one (O(n) time).\n",
        "\n",
        "    * Useful for Set Operations\n",
        "\n",
        "        Sets provide built-in methods for union, intersection, and difference, which are not directly available in lists.\n",
        "    \n",
        "6. What is a string in Python, and how is it different from a list?\n",
        "-  A string in python is a sequence of characters used to represent text  enclosed in single quotes(''), double quotes (\"\") or triple quotes (''' ''') (\"\"\" \"\"\").\n",
        "      \n",
        "      Strings are immutable, after the creation their content cannot be changed. whereas the Lists are mutable i.e; after creation their content can be changed.\n",
        "\n",
        "      Example of String:\n",
        "      \n",
        "        text = \"Hello World!\"\n",
        "\n",
        "      Example of List:\n",
        "\n",
        "          list = [1, 2, 3, 4, apple, car, pen]\n",
        "\n",
        "7. How do tuples ensure data integrity in Python?\n",
        "- In python tuple is an ordered, immutable sequence of elements. Once a tuple is created, its content cannot be modified. This immutability plays a key role in ensuring data integrity, meaning the stored data remains safe from accidental or intentional changes.\n",
        "\n",
        "8. What is a hash table, and how does it relate to dictionaries in Python?\n",
        "- A hash table is a data structure that stores and retrieve data in key value pairs and provides fast access using a technique called hashing. It works using a special function called a hash function.\n",
        "\n",
        "  Relation of hash table and dictionary.\n",
        "  * Python’s dictionary (dict) is implemented using a hash table.\n",
        "  * Keys in a dictionary are hashed, and their hash values decide   where the values are stored.\n",
        "  * Since dictionaries use hashing, Keys must be immutable (like str, int, tuple) to make it sure their hash value doesn’t change.\n",
        "  \n",
        "9. Can lists contain different data types in Python?\n",
        "- Yes, in python lists can contain elements of different data types.\n",
        "  \n",
        "  Example:\n",
        "     \n",
        "      list =  [10, \"Hello\", 3.44, True, [1, 2, 3]]\n",
        "\n",
        "10. Explain why strings are immutable in Python?\n",
        "- A string in python are immutable, meaning their contents cannot be changed once they are created, and every modification operation produces a new string object instead of altering the original one.\n",
        "\n",
        "  Reasons for Immutability\n",
        "  * Memory Efficiency and Hashing\n",
        "  * Security and Integrity\n",
        "  * Thread Safet\n",
        "  * Optimization (Less execution time)\n",
        "\n",
        "11. What advantages do dictionaries offer over lists for certain tasks?\n",
        "- Although both lists and dictionaries are used to store collections of data, dictionaries offer distinct advantages over lists for certain tasks because of their key-value mapping and optimized lookup operations.\n",
        "\n",
        "  Key Advantages of Dictionaries\n",
        "    * Fast Lookup and Access\n",
        "      * Dictionaries use a hash table, so accessing a value by key is very fast.\n",
        "      * Lists require scanning elements one by one.\n",
        "      * Useful when quick searches are needed.\n",
        "    * Key–Value Mapping\n",
        "      * Dictionaries store data as key–value pairs, making data more meaningful and self-descriptive.\n",
        "      * Lists only store elements by their position (index).\n",
        "      * Example: student[\"roll_no\"] is clearer than student[0].\n",
        "    * Uniqueness of Keys\n",
        "      * Dictionary keys must be unique, which prevents duplication of identifiers.\n",
        "      * Lists can have duplicate values, which may cause ambiguity.\n",
        "    * Flexible Data Storage\n",
        "      * In dictionaries, keys must be immutable, but values can be of any type (including lists, sets, or even other dictionaries).\n",
        "      * Lists only allow access by numeric indexes.\n",
        "\n",
        "12. Describe a scenario where using a tuple would be preferable over a list?\n",
        "- A tuple is preferable over a list in scenarios where data should remain constant and protected from accidental changes, such as representing a fixed set of values like coordinates or configuration parameters.\n",
        "\n",
        "  Storing fixed data like coordinates:\n",
        "\n",
        "        coordinates = (28.61, 77.23)  # Latitude & Longitude of Delhi\n",
        "    Here, using a tuple is better than a list because the coordinates should not be accidentally modified during program execution.\n",
        "\n",
        "13. How do sets handle duplicate values in Python?\n",
        "- A set in Python is an unordered collection of unique elements. This means a set automatically removes duplicates when storing data.\n",
        "\n",
        "  **How It Works**\n",
        "  * Sets are implemented using a hash table.\n",
        "  * When an element is added, Python computes its hash value.\n",
        "  * If the hash already exists in the set, the element is not added again.\n",
        "  * Thus, every element in a set is guaranteed to be unique.\n",
        "\n",
        "14. How does the “in” keyword work differently for lists and dictionaries?\n",
        "- The in keyword is used to test membership in sequences and collections. Its behavior differs depending on whether it is used with a list or a dictionary.\n",
        "  1. In Lists\n",
        "    * Checks if a value exists in the list.\n",
        "    * Searches sequentially → O(n) time complexity.\n",
        "  2. In Dictionaries\n",
        "    * By default, in checks for the presence of a key, not a value.\n",
        "    * Lookup is very fast because dictionaries use a hash table → O(1) average time.\n",
        "\n",
        "15. Can you modify the elements of a tuple? Explain why or why not?\n",
        "- No, we cannot modify the elements of a tuple in Python because tuples are immutable. This means once a tuple is created, its elements cannot be changed, added, or removed.\n",
        "\n",
        "16. What is a nested dictionary, and give an example of its use case?\n",
        "- A nested dictionary in Python is a dictionary inside another dictionary. The outer dictionary contains keys that map to inner dictionaries. It allows storing hierarchical or structured data in a single object in a tree like format.\n",
        "\n",
        "  Example:\n",
        "        \n",
        "         students = {\n",
        "          \"101\": {\"name\": \"Yogi\", \"age\": 22, \"branch\": \"CSE\"},\n",
        "          \"102\": {\"name\": \"Anita\", \"age\": 21, \"branch\": \"ECE\"}\n",
        "            }\n",
        "          print(students[\"101\"][\"name\"])   \n",
        "          \n",
        "          # Output: Yogi\n",
        "\n",
        "  Use Case of Nested Dictionaries\n",
        "\n",
        "  * Storing student records → Each student ID maps to a dictionary of details (name, age, branch).\n",
        "  * Configuration settings → Group settings under categories (e.g., database, server, security).\n",
        "  * Data represntation:  Used when working with APIs and databases.\n",
        "\n",
        "17. Describe the time complexity of accessing elements in a dictionary.\n",
        "- The time complexity of accessing elements in a Python dictionary is O(1) on average. This means retrieving a value by its key takes constant time independent of the size of the dictionary.\n",
        "\n",
        "18. In what situations are lists preferred over dictionaries?\n",
        "- Lists are preferred over dictionaries in Python in the following situations:\n",
        "  * When Order Matters\n",
        "  * When Data Has No Unique Identifier\n",
        "  * When Index-Based Access is Needed\n",
        "  * Simpler and Lightweight Storage\n",
        "\n",
        "19.  Why are dictionaries considered unordered, and how does that affect data retrieval?\n",
        "- Dictionaries considered unordered because\n",
        "    * Conceptual Design:\n",
        "      * Dictionaries in Python are built on hash tables.\n",
        "      * Keys are stored based on their hash values, not on insertion sequence (before Python 3.7).\n",
        "      * Hence, the storage order is not guaranteed for logical data ordering like a list.\n",
        "    * No Indexing:\n",
        "      * Lists use numeric indexes (list[0], list[1]), but dictionaries use keys (dict['key']).\n",
        "      * This makes them “unordered” in the traditional sense of sequential access.\n",
        "    \n",
        "  Effect on Data Retrieval:\n",
        "    * You cannot rely on positional indexes to fetch dictionary elements.\n",
        "    * Retrieval is based only on keys:\n",
        "      \n",
        "          data = {\"name\": \"Yogi\", \"age\": 22, \"city\": \"Almora\"}\n",
        "          print(data[\"city\"])   # Access by key, not by position\n",
        "    * This means random access by index is not possible, but constant-time access by key (O(1)) is supported.\n",
        "\n",
        "20. Explain the difference between a list and a dictionary in terms of data retrieval.\n",
        "-  Difference Between List and Dictionary in Terms of Data Retrieval\n",
        "  * Lists\n",
        "    * Retrieval is done using indexes (positions).\n",
        "    * Indexes are integer-based, starting from 0.\n",
        "    * Example:\n",
        "\n",
        "          fruits = [\"apple\", \"banana\", \"mango\"]\n",
        "          print(fruits[1])   # Output: banana\n",
        "    * Time complexity: O(1) for direct access by index.\n",
        "  \n",
        "  * Dictionaries\n",
        "    * Retrieval is done using keys, not positions.\n",
        "    * Keys can be strings, numbers, or other hashable types.\n",
        "    * Example:\n",
        "\n",
        "          student = {\"name\": \"Yogi\", \"age\": 22, \"branch\": \"CSE\"}\n",
        "          print(student[\"age\"])   # Output: 22\n",
        "    * Time complexity: O(1) on average (because of hash tables)."
      ],
      "metadata": {
        "id": "QMaLKWbT0wSQ"
      }
    },
    {
      "cell_type": "markdown",
      "source": [
        "# Practical Questions"
      ],
      "metadata": {
        "id": "w57L2eagMe0Y"
      }
    },
    {
      "cell_type": "code",
      "source": [
        "# Write a code to create a string with your name and print it.\n",
        "my_name = \"Yogesh Singh Mehra\"\n",
        "print(my_name)\n"
      ],
      "metadata": {
        "colab": {
          "base_uri": "https://localhost:8080/"
        },
        "id": "lu-7VlNpMmgY",
        "outputId": "098a957a-0d6e-4d7a-8024-022f5b896004"
      },
      "execution_count": 1,
      "outputs": [
        {
          "output_type": "stream",
          "name": "stdout",
          "text": [
            "Yogesh Singh Mehra\n"
          ]
        }
      ]
    },
    {
      "cell_type": "code",
      "source": [
        "# Write a code to find the length of the string \"Hello World\".\n",
        "string = \"Hello World\"\n",
        "print(len(string))"
      ],
      "metadata": {
        "colab": {
          "base_uri": "https://localhost:8080/"
        },
        "id": "dfeLy0buNDDc",
        "outputId": "1ba17da9-ff7b-41d6-caa8-5a34c2bb79ad"
      },
      "execution_count": 2,
      "outputs": [
        {
          "output_type": "stream",
          "name": "stdout",
          "text": [
            "11\n"
          ]
        }
      ]
    },
    {
      "cell_type": "code",
      "source": [
        "# Write a code to slice the first 3 characters from the string \"Python Programming\".\n",
        "string = \"Python Programming\"\n",
        "sliced_string = string[:3]\n",
        "print(sliced_string)"
      ],
      "metadata": {
        "colab": {
          "base_uri": "https://localhost:8080/"
        },
        "id": "TwC2jQhuNUoM",
        "outputId": "7d4cf85e-e951-40b7-881f-db82b4679203"
      },
      "execution_count": 3,
      "outputs": [
        {
          "output_type": "stream",
          "name": "stdout",
          "text": [
            "Pyt\n"
          ]
        }
      ]
    },
    {
      "cell_type": "code",
      "source": [
        "# Write a code to convert the string \"hello\" to uppercase.\n",
        "string = \"hello\"\n",
        "print(string.upper())"
      ],
      "metadata": {
        "colab": {
          "base_uri": "https://localhost:8080/"
        },
        "id": "Td1oR6QmSFrN",
        "outputId": "6d39cb99-360c-49f8-db4c-f5e9b4d127c8"
      },
      "execution_count": 4,
      "outputs": [
        {
          "output_type": "stream",
          "name": "stdout",
          "text": [
            "HELLO\n"
          ]
        }
      ]
    },
    {
      "cell_type": "code",
      "source": [
        "# Write a code to replace the word \"apple\" with \"orange\" in the string \"I like apple\".\n",
        "string = \"I like apple\"\n",
        "print(string.replace(\"apple\", \"orange\"))"
      ],
      "metadata": {
        "colab": {
          "base_uri": "https://localhost:8080/"
        },
        "id": "rCthWQQ-STwA",
        "outputId": "988aee05-f0d3-44d8-f646-17e628d41632"
      },
      "execution_count": 5,
      "outputs": [
        {
          "output_type": "stream",
          "name": "stdout",
          "text": [
            "I like orange\n"
          ]
        }
      ]
    },
    {
      "cell_type": "code",
      "source": [
        "# Write a code to create a list with numbers 1 to 5 and print it.\n",
        "list = [1, 2, 3, 4, 5]\n",
        "print(list)\n"
      ],
      "metadata": {
        "colab": {
          "base_uri": "https://localhost:8080/"
        },
        "id": "u8xg5nKMS5dr",
        "outputId": "d9809cc7-b9c6-4ab4-8ffe-ad9ea0d89f2d"
      },
      "execution_count": 6,
      "outputs": [
        {
          "output_type": "stream",
          "name": "stdout",
          "text": [
            "[1, 2, 3, 4, 5]\n"
          ]
        }
      ]
    },
    {
      "cell_type": "code",
      "source": [
        "# Write a code to append the number 10 to the list [1, 2, 3, 4].\n",
        "list = [1, 2, 3, 4]\n",
        "list.append(10)\n",
        "print(list)"
      ],
      "metadata": {
        "colab": {
          "base_uri": "https://localhost:8080/"
        },
        "id": "BOTyu74qTIzi",
        "outputId": "0f3a41bf-86e9-4959-a823-929b4b9c1a61"
      },
      "execution_count": 7,
      "outputs": [
        {
          "output_type": "stream",
          "name": "stdout",
          "text": [
            "[1, 2, 3, 4, 10]\n"
          ]
        }
      ]
    },
    {
      "cell_type": "code",
      "source": [
        "#Write a code to remove the number 3 from the list [1, 2, 3, 4, 5].\n",
        "list = [1, 2, 3, 4, 5]\n",
        "list.remove(3)\n",
        "print(list)"
      ],
      "metadata": {
        "colab": {
          "base_uri": "https://localhost:8080/"
        },
        "id": "qa7AzQCqTXwD",
        "outputId": "62b36044-f771-47ba-8d17-3c724ee01fa7"
      },
      "execution_count": 9,
      "outputs": [
        {
          "output_type": "stream",
          "name": "stdout",
          "text": [
            "[1, 2, 4, 5]\n"
          ]
        }
      ]
    },
    {
      "cell_type": "code",
      "source": [
        "# Write a code to access the second element in the list ['a', 'b', 'c', 'd'].\n",
        "list = ['a', 'b', 'c', 'd']\n",
        "print(list[1])"
      ],
      "metadata": {
        "colab": {
          "base_uri": "https://localhost:8080/"
        },
        "id": "w-z7dA0RTk5P",
        "outputId": "006e8a14-d351-447a-a272-038dab79cae3"
      },
      "execution_count": 10,
      "outputs": [
        {
          "output_type": "stream",
          "name": "stdout",
          "text": [
            "b\n"
          ]
        }
      ]
    },
    {
      "cell_type": "code",
      "source": [
        "# Write a code to reverse the list [10, 20, 30, 40, 50]\n",
        "list = [10, 20, 30, 40, 50]\n",
        "list.reverse()\n",
        "print(list)"
      ],
      "metadata": {
        "colab": {
          "base_uri": "https://localhost:8080/"
        },
        "id": "QAfLGY1Jb8i9",
        "outputId": "6e9bc818-5f01-42c4-955d-e0b133929e86"
      },
      "execution_count": 12,
      "outputs": [
        {
          "output_type": "stream",
          "name": "stdout",
          "text": [
            "[50, 40, 30, 20, 10]\n"
          ]
        }
      ]
    },
    {
      "cell_type": "code",
      "source": [
        "# Write a code to create a tuple with the elements 100, 200, 300 and print it.\n",
        "tuple = (100, 200, 300)\n",
        "print(tuple)"
      ],
      "metadata": {
        "colab": {
          "base_uri": "https://localhost:8080/"
        },
        "id": "XOVgrOi5cgx8",
        "outputId": "dfad2811-9c2b-4f9b-8706-ddcb6a8d1145"
      },
      "execution_count": 13,
      "outputs": [
        {
          "output_type": "stream",
          "name": "stdout",
          "text": [
            "(100, 200, 300)\n"
          ]
        }
      ]
    },
    {
      "cell_type": "code",
      "source": [
        "# Write a code to access the second-to-last element of the tuple ('red', 'green', 'blue', 'yellow')\n",
        "tuple = ('red', 'green', 'blue', 'yellow')\n",
        "print(tuple[-2])"
      ],
      "metadata": {
        "colab": {
          "base_uri": "https://localhost:8080/"
        },
        "id": "cdrdf5j1c3kI",
        "outputId": "e7f4fd27-35a5-4acc-d7e3-bcebbdf18a60"
      },
      "execution_count": 14,
      "outputs": [
        {
          "output_type": "stream",
          "name": "stdout",
          "text": [
            "blue\n"
          ]
        }
      ]
    },
    {
      "cell_type": "code",
      "source": [
        "# Write a code to find the minimum number in the tuple (10, 20, 5, 15).\n",
        "tuple = (10, 20, 5, 15)\n",
        "print(min(tuple))"
      ],
      "metadata": {
        "colab": {
          "base_uri": "https://localhost:8080/"
        },
        "id": "RTqV19csc_oF",
        "outputId": "3276e1f9-808b-46ce-f697-a5a0ae0e51a0"
      },
      "execution_count": 15,
      "outputs": [
        {
          "output_type": "stream",
          "name": "stdout",
          "text": [
            "5\n"
          ]
        }
      ]
    },
    {
      "cell_type": "code",
      "source": [
        "# Write a code to find the index of the element \"cat\" in the tuple ('dog', 'cat', 'rabbit').\n",
        "tuple = ('dog', 'cat', 'rabbit')\n",
        "index_of_cat = tuple.index('cat')\n",
        "print(index_of_cat)"
      ],
      "metadata": {
        "colab": {
          "base_uri": "https://localhost:8080/"
        },
        "id": "3NRFmoNfdEsf",
        "outputId": "60b97624-9c23-48ba-9b4e-6acb194c3835"
      },
      "execution_count": 16,
      "outputs": [
        {
          "output_type": "stream",
          "name": "stdout",
          "text": [
            "1\n"
          ]
        }
      ]
    },
    {
      "cell_type": "code",
      "source": [
        "#  Write a code to create a tuple containing three different fruits and check if \"kiwi\" is in it.\n",
        "fruits = (\"apple\", \"banana\", \"grapes\")\n",
        "if(\"kiwi\" in fruits):\n",
        "    print(\"kiwi is in the tuple\")\n",
        "else:\n",
        "    print(\"kiwi is not in the tuple\")"
      ],
      "metadata": {
        "colab": {
          "base_uri": "https://localhost:8080/"
        },
        "id": "2xlRxcw1dunH",
        "outputId": "144f464b-aa05-4454-be9b-980b49ddef96"
      },
      "execution_count": 18,
      "outputs": [
        {
          "output_type": "stream",
          "name": "stdout",
          "text": [
            "kiwi is not in the tuple\n"
          ]
        }
      ]
    },
    {
      "cell_type": "code",
      "source": [
        "# Write a code to create a set with the elements 'a', 'b', 'c' and print it.\n",
        "set = {'a', 'b', 'c'}\n",
        "print(set)"
      ],
      "metadata": {
        "colab": {
          "base_uri": "https://localhost:8080/"
        },
        "id": "BoYG8ZYcfPt8",
        "outputId": "5c65d02a-6e28-4b28-fdee-c63794807385"
      },
      "execution_count": 19,
      "outputs": [
        {
          "output_type": "stream",
          "name": "stdout",
          "text": [
            "{'a', 'b', 'c'}\n"
          ]
        }
      ]
    },
    {
      "cell_type": "code",
      "source": [
        "# Write a code to clear all elements from the set {1, 2, 3, 4, 5}.\n",
        "set = {1, 2, 3, 4,5}\n",
        "set.clear()\n",
        "print(set)"
      ],
      "metadata": {
        "colab": {
          "base_uri": "https://localhost:8080/"
        },
        "id": "Nn-_dMiofX8b",
        "outputId": "dc62d2a2-0ae1-4aaf-f990-b603cfe88c40"
      },
      "execution_count": 21,
      "outputs": [
        {
          "output_type": "stream",
          "name": "stdout",
          "text": [
            "set()\n"
          ]
        }
      ]
    },
    {
      "cell_type": "code",
      "source": [
        "# Write a code to remove the element 4 from the set {1, 2, 3, 4}.\n",
        "set = {1, 2, 3, 4}\n",
        "set.remove(4)\n",
        "print(set)"
      ],
      "metadata": {
        "colab": {
          "base_uri": "https://localhost:8080/"
        },
        "id": "9TAxShVQfawY",
        "outputId": "08df11e9-43be-4b62-a399-ae7f2482b4f4"
      },
      "execution_count": 22,
      "outputs": [
        {
          "output_type": "stream",
          "name": "stdout",
          "text": [
            "{1, 2, 3}\n"
          ]
        }
      ]
    },
    {
      "cell_type": "code",
      "source": [
        "# Write a code to find the union of two sets {1, 2, 3} and {3, 4, 5}.\n",
        "set1 = {1, 2, 3}\n",
        "set2 = {3, 4, 5}\n",
        "print(set1.union(set2))"
      ],
      "metadata": {
        "colab": {
          "base_uri": "https://localhost:8080/"
        },
        "id": "60HeR5ByfuFP",
        "outputId": "e06d159c-ab9b-4fa4-d2dd-4b0161c89f52"
      },
      "execution_count": 23,
      "outputs": [
        {
          "output_type": "stream",
          "name": "stdout",
          "text": [
            "{1, 2, 3, 4, 5}\n"
          ]
        }
      ]
    },
    {
      "cell_type": "code",
      "source": [
        "# Write a code to find the intersection of two sets {1, 2, 3} and {2, 3, 4}.\n",
        "set1 = {1, 2, 3, 4}\n",
        "set2 = {3, 4, 5, 6}\n",
        "print(set1.intersection(set2))"
      ],
      "metadata": {
        "colab": {
          "base_uri": "https://localhost:8080/"
        },
        "id": "1ks0RjjIfzHo",
        "outputId": "d115933b-f597-4d10-8ead-64c69b68f87e"
      },
      "execution_count": 24,
      "outputs": [
        {
          "output_type": "stream",
          "name": "stdout",
          "text": [
            "{3, 4}\n"
          ]
        }
      ]
    },
    {
      "cell_type": "code",
      "source": [
        "# Write a code to create a dictionary with the keys \"name\", \"age\", and \"city\", and print it.\n",
        "person = {\n",
        "    \"name\": \"Yogesh Singh Mehra\",\n",
        "    \"age\": 22,\n",
        "    \"city\": \"Champawat\"\n",
        "}\n",
        "print(person)"
      ],
      "metadata": {
        "colab": {
          "base_uri": "https://localhost:8080/"
        },
        "id": "KPUUP7_qgGo-",
        "outputId": "4cc8a96b-643a-40f4-d4fe-c7d02aa71c15"
      },
      "execution_count": 25,
      "outputs": [
        {
          "output_type": "stream",
          "name": "stdout",
          "text": [
            "{'name': 'Yogesh Singh Mehra', 'age': 22, 'city': 'Champawat'}\n"
          ]
        }
      ]
    },
    {
      "cell_type": "code",
      "source": [
        "# Write a code to add a new key-value pair \"country\": \"USA\" to the dictionary {'name': 'John', 'age': 25}.\n",
        "person = {'name': 'John',\n",
        "          'age': 25}\n",
        "person[\"country\"] = \"USA\"\n",
        "print(person)"
      ],
      "metadata": {
        "colab": {
          "base_uri": "https://localhost:8080/"
        },
        "id": "yoxj01ckgqkz",
        "outputId": "2e69c4ea-6057-4374-a27a-40532c1ca843"
      },
      "execution_count": 26,
      "outputs": [
        {
          "output_type": "stream",
          "name": "stdout",
          "text": [
            "{'name': 'John', 'age': 25, 'country': 'USA'}\n"
          ]
        }
      ]
    },
    {
      "cell_type": "code",
      "source": [
        "# Write a code to access the value associated with the key \"name\" in the dictionary {'name': 'Alice', 'age': 30}.\n",
        "person = {'name': 'Alice',\n",
        "          'age': 30}\n",
        "print(person[\"name\"])"
      ],
      "metadata": {
        "colab": {
          "base_uri": "https://localhost:8080/"
        },
        "id": "IYWV20wug4bT",
        "outputId": "2189dd4e-93c3-4164-b2ba-0c46a518c3fb"
      },
      "execution_count": 28,
      "outputs": [
        {
          "output_type": "stream",
          "name": "stdout",
          "text": [
            "Alice\n"
          ]
        }
      ]
    },
    {
      "cell_type": "code",
      "source": [
        "#  Write a code to remove the key \"age\" from the dictionary {'name': 'Bob', 'age': 22, 'city': 'New York'}.\n",
        "person = {'name': 'Bob',\n",
        "          'age': 22,\n",
        "          'city': 'New York'}\n",
        "person.pop(\"age\")\n",
        "print(person)"
      ],
      "metadata": {
        "colab": {
          "base_uri": "https://localhost:8080/"
        },
        "id": "jmOADSAsg_Vo",
        "outputId": "b8fd7e06-7a6b-4735-d1fe-97d67ff19a8b"
      },
      "execution_count": 30,
      "outputs": [
        {
          "output_type": "stream",
          "name": "stdout",
          "text": [
            "{'name': 'Bob', 'city': 'New York'}\n"
          ]
        }
      ]
    },
    {
      "cell_type": "code",
      "source": [
        "# Write a code to check if the key \"city\" exists in the dictionary {'name': 'Alice', 'city': 'Paris'}.\n",
        "person = {'name': 'Alice',\n",
        "          'city': 'Paris'}\n",
        "if(\"city\" in person):\n",
        "    print(\"city is in the dictionary\")\n",
        "else:\n",
        "    print(\"city is not in the dictionary\")"
      ],
      "metadata": {
        "colab": {
          "base_uri": "https://localhost:8080/"
        },
        "id": "YqdqudiAhEuu",
        "outputId": "4bdd74bb-5d7b-4e7c-fc77-a56e92de7611"
      },
      "execution_count": 31,
      "outputs": [
        {
          "output_type": "stream",
          "name": "stdout",
          "text": [
            "city is in the dictionary\n"
          ]
        }
      ]
    },
    {
      "cell_type": "code",
      "source": [
        "# Write a code to create a list, a tuple, and a dictionary, and print them all.\n",
        "list = [1, 2, 3, 4, 5]\n",
        "tuple = (1, 2, 3, 4, 5)\n",
        "dict = {\n",
        "    \"name\": \"Thor Odinson\",\n",
        "    \"age\": 5000,\n",
        "    \"city\": \"Asgard\"\n",
        "}\n",
        "print(list)\n",
        "print(tuple)\n",
        "print(dict)"
      ],
      "metadata": {
        "colab": {
          "base_uri": "https://localhost:8080/"
        },
        "id": "e7V9NCyqieJc",
        "outputId": "cbaaaffb-c5d9-45aa-e303-ecff1aad9e09"
      },
      "execution_count": 33,
      "outputs": [
        {
          "output_type": "stream",
          "name": "stdout",
          "text": [
            "[1, 2, 3, 4, 5]\n",
            "(1, 2, 3, 4, 5)\n",
            "{'name': 'Thor Odinson', 'age': 5000, 'city': 'Asgard'}\n"
          ]
        }
      ]
    },
    {
      "cell_type": "code",
      "source": [
        "#  Write a code to create a list of 5 random numbers between 1 and 100, sort it in ascending order, and print the\n",
        "# result.(replaced)\n",
        "\n",
        "import random\n",
        "numbers = [random.randint(1, 100) for _ in range(5)]\n",
        "numbers.sort()\n",
        "print(\"Sorted list:\", numbers)"
      ],
      "metadata": {
        "colab": {
          "base_uri": "https://localhost:8080/"
        },
        "id": "VzGEZaUcihuB",
        "outputId": "f8864ff5-eed2-442d-d14d-41bce8fab8be"
      },
      "execution_count": 35,
      "outputs": [
        {
          "output_type": "stream",
          "name": "stdout",
          "text": [
            "Sorted list: [23, 71, 81, 93, 95]\n"
          ]
        }
      ]
    },
    {
      "cell_type": "code",
      "source": [
        "# Write a code to create a list with strings and print the element at the third index.\n",
        "fruits = [\"apple\", \"banana\", \"mango\", \"orange\", \"grapes\"]\n",
        "print(fruits[2])"
      ],
      "metadata": {
        "colab": {
          "base_uri": "https://localhost:8080/"
        },
        "id": "54kr9jncjcDX",
        "outputId": "886a1006-6fdb-4d5e-a49a-eaa6fab9da8b"
      },
      "execution_count": 37,
      "outputs": [
        {
          "output_type": "stream",
          "name": "stdout",
          "text": [
            "mango\n"
          ]
        }
      ]
    },
    {
      "cell_type": "code",
      "source": [
        "# Write a code to combine two dictionaries into one and print the result.\n",
        "dict1 = {'name': 'Johny Jhony', 'age': 25}\n",
        "dict2 = {'city': 'New York', 'country': 'USA'}\n",
        "combined_dict = dict1.copy()\n",
        "combined_dict.update(dict2)\n",
        "\n",
        "print(combined_dict)\n"
      ],
      "metadata": {
        "colab": {
          "base_uri": "https://localhost:8080/"
        },
        "id": "hv7oaXOzjqPI",
        "outputId": "366418bd-67ba-41d8-f365-13e5b240b723"
      },
      "execution_count": 39,
      "outputs": [
        {
          "output_type": "stream",
          "name": "stdout",
          "text": [
            "{'name': 'Johny Jhony', 'age': 25, 'city': 'New York', 'country': 'USA'}\n"
          ]
        }
      ]
    },
    {
      "cell_type": "code",
      "source": [
        "# Write a code to convert a list of strings into a set.\n",
        "fruits_list = [\"apple\", \"banana\", \"apple\", \"kiwi\", \"banana\"]\n",
        "fruits_set = set(fruits_list)\n",
        "\n",
        "print(fruits_set)"
      ],
      "metadata": {
        "colab": {
          "base_uri": "https://localhost:8080/"
        },
        "id": "mda_nPyvkLYN",
        "outputId": "010a9e25-a273-419d-eb53-4eaa38425159"
      },
      "execution_count": 53,
      "outputs": [
        {
          "output_type": "stream",
          "name": "stdout",
          "text": [
            "{'banana', 'kiwi', 'apple'}\n"
          ]
        }
      ]
    }
  ]
}